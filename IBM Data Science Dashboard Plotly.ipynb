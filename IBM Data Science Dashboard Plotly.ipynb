{
    "cells": [
        {
            "cell_type": "code",
            "execution_count": null,
            "metadata": {
                "collapsed": true
            },
            "outputs": [],
            "source": "# Import required libraries\nimport pandas as pd\nimport dash\nimport dash_html_components as html\nimport dash_core_components as dcc\nfrom dash.dependencies import Input, Output\nimport plotly.express as px\n\n# Read the airline data into pandas dataframe\nspacex_df = pd.read_csv(\"spacex_launch_dash.csv\")\nmax_payload = spacex_df['Payload Mass (kg)'].max()\nmin_payload = spacex_df['Payload Mass (kg)'].min()\n\n# Create a dash application\napp = dash.Dash(__name__)\n\noptions=[\n    { 'label':idx, 'value': idx } for idx in spacex_df['Launch Site'].unique()\n]\noptions = [{ 'label': 'ALL', 'value': 'ALL'}] + options\n\n# Create an app layout\napp.layout = html.Div(children=[html.H1('SpaceX Launch Records Dashboard',\n                                        style={'textAlign': 'center', 'color': '#503D36',\n                                               'font-size': 40}),\n                                # TASK 1: Add a dropdown list to enable Launch Site selection\n                                # The default select value is for ALL sites\n                                dcc.Dropdown(id='site-dropdown',\n                                    options=options,\n                                    value='ALL',\n                                    placeholder='Select a Launch Site here',\n                                    searchable=True\n                                ),\n                                html.Br(),\n\n                                # TASK 2: Add a pie chart to show the total successful launches count for all sites\n                                # If a specific launch site was selected, show the Success vs. Failed counts for the site\n                                html.Div(dcc.Graph(id='success-pie-chart')),\n                                html.Br(),\n\n                                html.P(\"Payload range (Kg):\"),\n                                # TASK 3: Add a slider to select payload range\n                                html.Div(dcc.RangeSlider(\n                                    id='payload-slider',\n                                    min=0,\n                                    max=10000,\n                                    step=1000,\n                                    value=[min_payload, max_payload]\n                                )),\n\n                                # TASK 4: Add a scatter chart to show the correlation between payload and launch success\n                                html.Div(dcc.Graph(id='success-payload-scatter-chart')),\n                                ])\n\n# TASK 2:\n# Add a callback function for `site-dropdown` as input, `success-pie-chart` as output\n@app.callback( Output(component_id='success-pie-chart', component_property='figure'),\n                Input(component_id='site-dropdown', component_property='value'))\n\ndef get_graph(launch_site):\n    if (launch_site == 'ALL'):\n        return px.pie(spacex_df, values='class', names='Launch Site', title='Total Success Launches by Site')\n    else:\n        launch_df = spacex_df[spacex_df['Launch Site'] == launch_site]\n        dff = launch_df.groupby(['Launch Site','class']).size().reset_index(name='class count')\n        return px.pie(dff, values='class count', names='class', title='Total Success Launches for Site ' + launch_site)\n\n# TASK 4:\n# Add a callback function for `site-dropdown` and `payload-slider` as inputs, `success-payload-scatter-chart` as output\n@app.callback(Output(component_id='success-payload-scatter-chart', component_property='figure'),\n    [Input(component_id='site-dropdown', component_property='value'), Input(component_id=\"payload-slider\", component_property=\"value\")])\n\ndef get_scatter(site, payload):\n    low, high = payload[0], payload[1]\n    filtered_df = spacex_df[spacex_df['Payload Mass (kg)'].between(low,high)]\n    if (site == 'ALL'):\n        return px.scatter(filtered_df, x='Payload Mass (kg)', y='class', color='Booster Version Category')\n    else:\n        filtered_dfb = filtered_df[filtered_df['Launch Site'] == site]\n        return px.scatter(filtered_dfb, x='Payload Mass (kg)', y='class', color='Booster Version Category')\n\n# Run the app\nif __name__ == '__main__':\n    app.run_server()"
        }
    ],
    "metadata": {
        "kernelspec": {
            "display_name": "Python 3.10",
            "language": "python",
            "name": "python3"
        },
        "language_info": {
            "codemirror_mode": {
                "name": "ipython",
                "version": 3
            },
            "file_extension": ".py",
            "mimetype": "text/x-python",
            "name": "python",
            "nbconvert_exporter": "python",
            "pygments_lexer": "ipython3",
            "version": "3.10.6"
        }
    },
    "nbformat": 4,
    "nbformat_minor": 1
}